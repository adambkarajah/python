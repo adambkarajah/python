{
  "nbformat": 4,
  "nbformat_minor": 0,
  "metadata": {
    "colab": {
      "name": "adamKarajah.ipynb",
      "provenance": [],
      "authorship_tag": "ABX9TyMTwSLAYjpEBhreGmvpbGi7",
      "include_colab_link": true
    },
    "kernelspec": {
      "name": "python3",
      "display_name": "Python 3"
    }
  },
  "cells": [
    {
      "cell_type": "markdown",
      "metadata": {
        "id": "view-in-github",
        "colab_type": "text"
      },
      "source": [
        "<a href=\"https://colab.research.google.com/github/adambkarajah/python/blob/main/adamKarajah.ipynb\" target=\"_parent\"><img src=\"https://colab.research.google.com/assets/colab-badge.svg\" alt=\"Open In Colab\"/></a>"
      ]
    },
    {
      "cell_type": "markdown",
      "metadata": {
        "id": "r33ChCktCpOK"
      },
      "source": [
        "#    سبحان الله وبحمده   \n",
        "#    سبحان الله العظيم  \n"
      ]
    },
    {
      "cell_type": "code",
      "metadata": {
        "colab": {
          "base_uri": "https://localhost:8080/"
        },
        "id": "hvLT9u9Dt5kj",
        "outputId": "ad746eee-5d9d-430d-fd4b-2962e5dccd87"
      },
      "source": [
        "print(\"hi\",544,54.25,9j,\"ada\"+\"m\")\n",
        "adamint = 53 \n",
        "print(\"type adamint :\" , type(adamint) ,\"adamint = \", adamint)\n",
        "\n",
        "\n",
        "adamfloat = 1.77\n",
        "print(\"type adamfloat :\" , type(adamfloat),\"adamfloat = \",adamfloat)\n",
        "\n",
        "\n",
        "adamcomplex = 34j\n",
        "print(\"type adamcomplex :\" , type(adamcomplex),\"adamcomplex = \",adamcomplex)\n",
        "\n",
        "\n",
        "adambool = True #or False\n",
        "print(\"type adambool :\" , type(adambool),\"adambool = \",adambool)\n",
        "\n",
        "\n"
      ],
      "execution_count": null,
      "outputs": [
        {
          "output_type": "stream",
          "text": [
            "hi 544 54.25 9j adam\n",
            "type adamint : <class 'int'> adamint =  53\n",
            "type adamfloat : <class 'float'> adamfloat =  1.77\n",
            "type adamcomplex : <class 'complex'> adamcomplex =  34j\n",
            "type adambool : <class 'bool'> adambool =  True\n"
          ],
          "name": "stdout"
        }
      ]
    },
    {
      "cell_type": "code",
      "metadata": {
        "colab": {
          "base_uri": "https://localhost:8080/"
        },
        "id": "EtZwiwajAcA9",
        "outputId": "6605682f-41f5-4bf6-d7b0-5fdf4de327b7"
      },
      "source": [
        "adamstr1 = 'Hello, I am text 1 '\n",
        "print(\"type adamstr1 :\" , type(adamstr1) ,\"adamstr1 = \", adamstr1)\n",
        "\n",
        "\n",
        "\n",
        "adamstr2 = \"Hello, I am text 2 \"\n",
        "print(\"type adamstr2 :\" , type(adamstr2) ,\"adamstr2 = \", adamstr2)\n",
        "\n",
        "\n",
        "adamstr3 =\"\"\" Hello, I am text 3\n",
        "Hello, I am text 3 \"\"\"\n",
        "print(\"type adamstr3 :\" , type(adamstr3) ,\"adamstr3 = \")\n",
        "print(adamstr3)\n",
        "\n",
        "\n",
        "adamstr4 =''' Hello, I am text 4\n",
        "Hello, I am text 4 '''\n",
        "print(\"type adamstr4 :\" , type(adamstr4) ,\"adamstr4 = \")\n",
        "print(adamstr4)\n"
      ],
      "execution_count": null,
      "outputs": [
        {
          "output_type": "stream",
          "text": [
            "type adamstr1 : <class 'str'> adamstr1 =  Hello, I am text 1 \n",
            "type adamstr2 : <class 'str'> adamstr2 =  Hello, I am text 2 \n",
            "type adamstr3 : <class 'str'> adamstr3 = \n",
            " Hello, I am text 3\n",
            "Hello, I am text 3 \n",
            "type adamstr4 : <class 'str'> adamstr4 = \n",
            " Hello, I am text 4\n",
            "Hello, I am text 4 \n"
          ],
          "name": "stdout"
        }
      ]
    },
    {
      "cell_type": "code",
      "metadata": {
        "colab": {
          "base_uri": "https://localhost:8080/"
        },
        "id": "pGABXCZmA3Pf",
        "outputId": "0864208a-9dcf-4521-cab5-8d55b96e6c85"
      },
      "source": [
        "adamList1 = []\n",
        "print(\"type adamList1 :\" , type(adamList1) ,\"adamList1 = \",adamList1)\n",
        "\n",
        "\n",
        "adamList2 = [11, 22, 33, 44, 55]\n",
        "\n",
        "adamList3 = ['adam b', 'adam adam', 'adams']\n",
        "\n",
        "adamList4 = [ adamint , adamfloat , adamcomplex , adambool , adamstr1 , adamList2 ]\n",
        "print(adamList4)\n",
        "\n",
        "\n",
        "adamList5 = [[11, 22, 33, 44, 55],[66, 77, 88, 99, 111],[122, 133, 144, 155, 166],[177, 188, 199, 222, 333]]\n",
        "\n"
      ],
      "execution_count": null,
      "outputs": [
        {
          "output_type": "stream",
          "text": [
            "type adamList1 : <class 'list'> adamList1 =  []\n",
            "[53, 1.77, 34j, True, 'Hello, I am text 1 ', [11, 22, 33, 44, 55]]\n"
          ],
          "name": "stdout"
        }
      ]
    },
    {
      "cell_type": "code",
      "metadata": {
        "colab": {
          "base_uri": "https://localhost:8080/"
        },
        "id": "b1ifqRh6QRYH",
        "outputId": "38d50fd6-8880-4848-899b-ccfef8358f3a"
      },
      "source": [
        "#    سبحان الله وبحمده   \n",
        "#    سبحان الله العظيم  \n",
        "\n",
        "adamTuple1 = ()\n",
        "print(\"type adamTuple1 :\" , type(adamTuple1) ,\"adamTuple1 = \",adamTuple1)\n",
        "\n",
        "\n",
        "adamTuple2 = ( 11, 22, 33, 44, 55 )\n",
        "adamTuple3 = ( 'ad  am', 'ad  am ad am', 'ad ams' )\n",
        "adamTuple4 = ( adamint , adamfloat , adamcomplex , adambool , adamstr1 , adamList2 , adamTuple2 )\n",
        "print(adamTuple4)\n",
        "\n",
        "adamTuple5 = ( (11, 22, 33, 44, 55) , (66, 77, 88, 99, 111) , (122, 133, 144, 155, 166) , (177, 188, 199, 222, 333) )\n",
        "\n"
      ],
      "execution_count": null,
      "outputs": [
        {
          "output_type": "stream",
          "text": [
            "type adamTuple1 : <class 'tuple'> adamTuple1 =  ()\n",
            "(53, 1.77, 34j, True, 'Hello, I am text 1 ', [11, 22, 33, 44, 55], (11, 22, 33, 44, 55))\n"
          ],
          "name": "stdout"
        }
      ]
    },
    {
      "cell_type": "code",
      "metadata": {
        "colab": {
          "base_uri": "https://localhost:8080/"
        },
        "id": "NNfCKaCeY8Eq",
        "outputId": "7ced692b-ebf0-4c96-f9bd-299f750a7485"
      },
      "source": [
        "adamSet1 = {1}\n",
        "print(\"type adamSet1 :\" , type(adamSet1) ,\"adamSet1 = \",adamSet1)\n",
        "\n",
        "\n",
        "adamSet2 = { 11, 22, 33, 44, 55 }\n",
        "adamSet3 = { 'ad  am', 'ad  am ad am', 'ad ams' }\n",
        "adamSet4 = {54 , adamfloat , adamcomplex , adambool , adamstr1  ,adamTuple2 }\n",
        "print(adamSet4)\n",
        "\n"
      ],
      "execution_count": null,
      "outputs": [
        {
          "output_type": "stream",
          "text": [
            "type adamSet1 : <class 'set'> adamSet1 =  {1}\n",
            "{1.77, True, 34j, (11, 22, 33, 44, 55), 'Hello, I am text 1 ', 54}\n"
          ],
          "name": "stdout"
        }
      ]
    },
    {
      "cell_type": "code",
      "metadata": {
        "colab": {
          "base_uri": "https://localhost:8080/"
        },
        "id": "uVKT7Jh-8jnL",
        "outputId": "be873a14-9330-42fd-9043-37fdea36f989"
      },
      "source": [
        "a =b =x =z =40\n",
        "print(\"a = \",a)\n",
        "print(\"b = \",b)\n",
        "print(\"x = \",x)\n",
        "print(\"z = \",z)\n",
        "print()\n",
        "print()\n",
        "a=23\n",
        "b+=5\n",
        "x*=2\n",
        "z/=2\n",
        "print(\"a = \",a)\n",
        "print(\"b = \",b)\n",
        "print(\"x = \",x)\n",
        "print(\"z = \",z)\n",
        "print()\n",
        "print()\n",
        "print(\"a*b : \", a*b)\n",
        "print(\"a+b : \", a+b)\n",
        "print(\"a-b : \", a-b)\n",
        "print(\"a/b : \", a/b)\n",
        "print()\n",
        "print()\n",
        "print(\"a==b : \", a==b)\n",
        "print(\"a!=b : \", a!=b)\n",
        "print(\"a<b : \", a<b)\n",
        "print(\"a>b : \", a>b)\n",
        "print(\"a>=b : \", a>=b)\n",
        "print(\"a<=b : \", a<=b)\n",
        "print()\n",
        "print()\n",
        "print(\"a==b and a!=b : \", a==b and a!=b)\n",
        "print(\"a==b or a!=b : \", a==b or a!=b)\n",
        "print(\"a==b and not a!=b : \", a==b and not a!=b)\n",
        "print(\"a in [12,443,212,121,22,23] : \", a in [12,443,212,121,22,23])\n",
        "print(\"a is a : \", a is a)\n",
        "print()\n",
        "print()\n",
        "print(\"4**5 =\",4**5)\n",
        "\n"
      ],
      "execution_count": null,
      "outputs": [
        {
          "output_type": "stream",
          "text": [
            "a =  40\n",
            "b =  40\n",
            "x =  40\n",
            "z =  40\n",
            "\n",
            "\n",
            "a =  23\n",
            "b =  45\n",
            "x =  80\n",
            "z =  20.0\n",
            "\n",
            "\n",
            "a*b :  1035\n",
            "a+b :  68\n",
            "a-b :  -22\n",
            "a/b :  0.5111111111111111\n",
            "\n",
            "\n",
            "a==b :  False\n",
            "a!=b :  True\n",
            "a<b :  True\n",
            "a>b :  False\n",
            "a>=b :  False\n",
            "a<=b :  True\n",
            "\n",
            "\n",
            "a==b and a!=b :  False\n",
            "a==b or a!=b :  True\n",
            "a==b and not a!=b :  False\n",
            "a in [12,443,212,121,22,23] :  True\n",
            "a is a :  True\n",
            "\n",
            "\n",
            "4**5 = 1024\n"
          ],
          "name": "stdout"
        }
      ]
    },
    {
      "cell_type": "code",
      "metadata": {
        "colab": {
          "base_uri": "https://localhost:8080/"
        },
        "id": "8lFjiui6E7sH",
        "outputId": "7c84302e-4e8d-49d9-9134-0f85ff4db6d6"
      },
      "source": [
        "#    سبحان الله وبحمده   \n",
        "#    سبحان الله العظيم  \n",
        "\n",
        "if a==b or a!=b:\n",
        "  print(\"a==b or a!=b\")\n",
        "    \n",
        "elif a!=b:\n",
        "  print(\"a!=b\")\n",
        "\n",
        "else:\n",
        "    print(\" لم يتحقق اي شرط \")"
      ],
      "execution_count": null,
      "outputs": [
        {
          "output_type": "stream",
          "text": [
            "a==b or a!=b\n"
          ],
          "name": "stdout"
        }
      ]
    },
    {
      "cell_type": "code",
      "metadata": {
        "colab": {
          "base_uri": "https://localhost:8080/"
        },
        "id": "A8EsbSKYMEtZ",
        "outputId": "0da05ebc-8050-4cb1-86cc-346c43339606"
      },
      "source": [
        "for i in range(1, 6):\n",
        "  print(i)\n",
        "print(\"---------------------------\")\n",
        "for i in range(0, 8,3):\n",
        "  print(i)\n",
        "print(\"---------------------------\")\n",
        "adamList6 =[10,41,31,21]\n",
        "for i in adamList6:\n",
        "  print(i)\n",
        "\n",
        "print(\"------------while---------------\")\n",
        "\n",
        "i = 1\n",
        "while i <= 4:\n",
        "  print(i)\n",
        "  i +=1"
      ],
      "execution_count": null,
      "outputs": [
        {
          "output_type": "stream",
          "text": [
            "1\n",
            "2\n",
            "3\n",
            "4\n",
            "5\n",
            "---------------------------\n",
            "0\n",
            "3\n",
            "6\n",
            "---------------------------\n",
            "10\n",
            "41\n",
            "31\n",
            "21\n",
            "------------while---------------\n",
            "1\n",
            "2\n",
            "3\n",
            "4\n"
          ],
          "name": "stdout"
        }
      ]
    },
    {
      "cell_type": "code",
      "metadata": {
        "colab": {
          "base_uri": "https://localhost:8080/"
        },
        "id": "kz7DugORN-M1",
        "outputId": "c231cd9c-bc32-492c-e650-92dc73ff5664"
      },
      "source": [
        "adamList7 = [0,1,2,3,4,5]\n",
        "adamList8 = [\"adom\",\"e\",\"as\",\"saa\",\"sa\",\"d\"]\n",
        "print(\"adamList7 : \" , adamList7)\n",
        "adamList7.append(6)\n",
        "print(\"adamList7.append(6) : \" , adamList7)\n",
        "adamList7.extend(adamList8)\n",
        "print(\"adamList7.extend(adamList8) : \" , adamList7)\n",
        "adamList7.insert(1, 12312)\n",
        "print(\"adamList7.insert(1, 12312) : \" , adamList7)\n",
        "\n",
        "print(adamList7.pop())#set\n",
        "print(\"adamList7.pop()#set : \" , adamList7)\n",
        "\n",
        "adamList8.extend(adamList7.copy())\n",
        "print(\"adamList8.extend(adamList7.copy())#set : \" , adamList8)\n",
        "\n",
        "adamList7.clear()\n",
        "print(\"adamList7.clear()  : \", adamList7 )\n",
        "\n",
        "print(\"\"\"adamList8.count(\"adom\")#tuple :\"\"\",adamList8.count(\"adom\"))#tuple \n",
        "\n",
        "adamList8.remove(\"adom\")\n",
        "print(\"\"\"adamList8.remove(\"adom\") :\"\"\",adamList8)\n",
        "\n",
        "print(\"\"\"adamList8.index(\"adom\")#tuple :\"\"\",adamList8.index(\"adom\"))#tuple\n",
        "adamList9 =[2,0,4,2,55,99,11]\n",
        "print(\"adamList9 :\",adamList9)\n",
        "adamList9.sort()\n",
        "print(\"\"\"adamList9.sort() :\"\"\",adamList9)\n",
        "adamList9.reverse()\n",
        "print(\"\"\"adamList9.reverse() :\"\"\",adamList9)\n",
        "\n",
        "print(\"len(adamList9)#tuple  +set : \",len(adamList9))#tuple  +set\n",
        "print(\"min(adamList9)#tuple  +set : \",min(adamList9))#tuple  +set\n",
        "print(\"max(adamList9)#tuple  +set : \",max(adamList9))#tuple  +set\n",
        "\n"
      ],
      "execution_count": null,
      "outputs": [
        {
          "output_type": "stream",
          "text": [
            "adamList7 :  [0, 1, 2, 3, 4, 5]\n",
            "adamList7.append(6) :  [0, 1, 2, 3, 4, 5, 6]\n",
            "adamList7.extend(adamList8) :  [0, 1, 2, 3, 4, 5, 6, 'adom', 'e', 'as', 'saa', 'sa', 'd']\n",
            "adamList7.insert(1, 12312) :  [0, 12312, 1, 2, 3, 4, 5, 6, 'adom', 'e', 'as', 'saa', 'sa', 'd']\n",
            "d\n",
            "adamList7.pop()#set :  [0, 12312, 1, 2, 3, 4, 5, 6, 'adom', 'e', 'as', 'saa', 'sa']\n",
            "adamList8.extend(adamList7.copy())#set :  ['adom', 'e', 'as', 'saa', 'sa', 'd', 0, 12312, 1, 2, 3, 4, 5, 6, 'adom', 'e', 'as', 'saa', 'sa']\n",
            "adamList7.clear()  :  []\n",
            "adamList8.count(\"adom\")#tuple : 2\n",
            "adamList8.remove(\"adom\") : ['e', 'as', 'saa', 'sa', 'd', 0, 12312, 1, 2, 3, 4, 5, 6, 'adom', 'e', 'as', 'saa', 'sa']\n",
            "adamList8.index(\"adom\")#tuple : 13\n",
            "adamList9 : [2, 0, 4, 2, 55, 99, 11]\n",
            "adamList9.sort() : [0, 2, 2, 4, 11, 55, 99]\n",
            "adamList9.reverse() : [99, 55, 11, 4, 2, 2, 0]\n",
            "len(adamList9)#tuple  +set :  7\n",
            "min(adamList9)#tuple  +set :  0\n",
            "max(adamList9)#tuple  +set :  99\n"
          ],
          "name": "stdout"
        }
      ]
    },
    {
      "cell_type": "markdown",
      "metadata": {
        "id": "rQEdO5UJWmnC"
      },
      "source": [
        "\n",
        "\n",
        "adamTuple6 = ( 1, 2, \"Tuple\", 4, 5 )\n",
        "adamList10 = [list(adamSet5),list(adamTuple6)]\n",
        "print(\"adamSet5 : \", adamSet5)\n",
        "print(\"adamTuple6 : \", adamTuple6)\n",
        "print(\"adamList10 = [list(adamSet5),list(adamTuple6)] : \", adamList10)#tuple + set\n"
      ]
    },
    {
      "cell_type": "code",
      "metadata": {
        "colab": {
          "base_uri": "https://localhost:8080/"
        },
        "id": "p8XwLX48cxM6",
        "outputId": "35fe68f4-7239-4823-df9f-942ef02e4098"
      },
      "source": [
        "#    سبحان الله وبحمده   \n",
        "#    سبحان الله العظيم  \n",
        "\n",
        "adamSet6 = { 1, 2, 3, 4, 5 }\n",
        "print(\"adamSet6 : \", adamSet6)\n",
        "adamSet6.add(6)\n",
        "print(\"adamSet6.add(6) : \", adamSet6)\n",
        "print(\"adamSet6.difference({ 1, 2, 4, 5 }) : \", adamSet6.difference({ 1, 2, 4, 5 }))\n",
        "#adamSet6.difference_update({ 1, 2, 4, 5 })   adamSet6 في difference بتخزن ناتج \n",
        "\n",
        "print(\"adamSet6.intersection({ 1, 2, 4, 5 }) : \", adamSet6.intersection({ 1, 2, 4, 5 }))\n",
        "#adamSet6.intersection_update({ 1, 2, 4, 5 })   adamSet6 في intersection بتخزن ناتج \n",
        "\n",
        "print(\"adamSet6.symmetric_difference({ 1, 2, 4, 5 }) : \", adamSet6.symmetric_difference({ 1, 2, 4, 5 }))\n",
        "#adamSet6.symmetric_difference_update({ 1, 2, 4, 5 })   adamSet6 في symmetric_difference بتخزن ناتج \n",
        "\n",
        "print(\"adamSet6.union({ 1, 2, 9, 5 }) : \", adamSet6.union({ 1, 2, 9, 5 }))\n",
        "adamSet6.update({ 1, 2, 9, 5 })\n",
        "print(\"adamSet6.update({ 1, 2, 9, 5 }) : \", adamSet6)\n",
        "adamSet6.discard(9)\n",
        "print(\"adamSet6.discard(9)#اذا العنصر مش موجود KeyError بتعمل remove زي بعض بيحذفو عنصر بس : \", adamSet6)\n",
        "print(\"adamSet6.isdisjoint({ 1, 2, 9, 5 })# True اذا فش عناصر مشتركه بترجع  : \", adamSet6.isdisjoint({ 1, 2, 9, 5 }))\n",
        "print(\"adamSet6.issuperset({ 1, 2, 9, 5 })# True اذا جميع العناصر الي بعتهم موجودات في المستدعاه بترجع  : \", adamSet6.issuperset({ 1, 2, 9, 5 }))\n",
        "print(\"adamSet6.issubset({ 1, 2, 9, 5 })# True اذا جميع العناصر في المستدعاه موجودات في الي بعتهم بترجع  : \", adamSet6.issubset({ 1, 2, 9, 5 }))\n"
      ],
      "execution_count": null,
      "outputs": [
        {
          "output_type": "stream",
          "text": [
            "adamSet6 :  {1, 2, 3, 4, 5}\n",
            "adamSet6.add(6) :  {1, 2, 3, 4, 5, 6}\n",
            "adamSet6.difference({ 1, 2, 4, 5 }) :  {3, 6}\n",
            "adamSet6.intersection({ 1, 2, 4, 5 }) :  {1, 2, 4, 5}\n",
            "adamSet6.symmetric_difference({ 1, 2, 4, 5 }) :  {3, 6}\n",
            "adamSet6.union({ 1, 2, 9, 5 }) :  {1, 2, 3, 4, 5, 6, 9}\n",
            "adamSet6.update({ 1, 2, 9, 5 }) :  {1, 2, 3, 4, 5, 6, 9}\n",
            "adamSet6.discard(9)#اذا العنصر مش موجود KeyError بتعمل remove زي بعض بيحذفو عنصر بس :  {1, 2, 3, 4, 5, 6}\n",
            "adamSet6.isdisjoint({ 1, 2, 9, 5 })# True اذا فش عناصر مشتركه بترجع  :  False\n",
            "adamSet6.issuperset({ 1, 2, 9, 5 })# True اذا جميع العناصر الي بعتهم موجودات في المستدعاه بترجع  :  False\n",
            "adamSet6.issubset({ 1, 2, 9, 5 })# True اذا جميع العناصر في المستدعاه موجودات في الي بعتهم بترجع  :  False\n"
          ],
          "name": "stdout"
        }
      ]
    },
    {
      "cell_type": "code",
      "metadata": {
        "colab": {
          "base_uri": "https://localhost:8080/"
        },
        "id": "P9mnVREv0G-_",
        "outputId": "c3e5a642-2b58-4061-b924-270a1f808e70"
      },
      "source": [
        "#dict\n",
        "adamdict1= {\"a\":100 , \"b\" : 200 ,\"c\" : 300}\n",
        "adamdict2= {1:111,2:222,3:333}\n",
        "\n",
        "for i in adamdict1:#adamdict1.keys()\n",
        "  print(i,\"  \",adamdict1[i])\n",
        "\n",
        "adamdict1.update(adamdict2)\n",
        "adamdict1[\"adom\"]=235.3\n",
        "\n",
        "for i in adamdict1.values():\n",
        "  print(i)\n",
        "print(\"adamdict1 : \",adamdict1)\n",
        "print(\"adamdict2 : \",adamdict2)\n",
        "del adamdict2 # حذفة "
      ],
      "execution_count": null,
      "outputs": [
        {
          "output_type": "stream",
          "text": [
            "a    100\n",
            "b    200\n",
            "c    300\n",
            "100\n",
            "200\n",
            "300\n",
            "111\n",
            "222\n",
            "333\n",
            "235.3\n",
            "adamdict1 :  {'a': 100, 'b': 200, 'c': 300, 1: 111, 2: 222, 3: 333, 'adom': 235.3}\n",
            "adamdict2 :  {1: 111, 2: 222, 3: 333}\n"
          ],
          "name": "stdout"
        }
      ]
    },
    {
      "cell_type": "code",
      "metadata": {
        "colab": {
          "base_uri": "https://localhost:8080/"
        },
        "id": "w3cZaOnl5kuz",
        "outputId": "c84e08f7-b781-4f2f-9ae3-d16d831fa67d"
      },
      "source": [
        "def adamfunction1():\n",
        "  print(\"adamfunction1\")\n",
        "def adamfunction2(a):\n",
        "  print(\"adamfunction\",a)\n",
        "def adamfunction3():\n",
        "  return \"adamfunction3\"\n",
        "def adamfunction4(a=7):\n",
        "  return \"adamfunction4\",a\n",
        "\n",
        "\n",
        "adamfunction1()\n",
        "adamfunction2(777)\n",
        "print(adamfunction3())\n",
        "print(adamfunction4())\n",
        "print(adamfunction4(55))\n",
        "\n",
        "g =40\n",
        "def adamfunction5():\n",
        "  global g\n",
        "  g=30\n",
        "print(g)\n",
        "adamfunction5()\n",
        "print(g)\n",
        "\n"
      ],
      "execution_count": null,
      "outputs": [
        {
          "output_type": "stream",
          "text": [
            "adamfunction1\n",
            "adamfunction 777\n",
            "adamfunction3\n",
            "('adamfunction4', 7)\n",
            "('adamfunction4', 55)\n",
            "40\n",
            "30\n"
          ],
          "name": "stdout"
        }
      ]
    },
    {
      "cell_type": "code",
      "metadata": {
        "colab": {
          "base_uri": "https://localhost:8080/"
        },
        "id": "jRC7JNtw7Dg5",
        "outputId": "e5cf9c3f-343b-4819-e2b0-6cb00dbaba00"
      },
      "source": [
        "#    سبحان الله وبحمده   \n",
        "#    سبحان الله العظيم  \n",
        "\n",
        "class adamclass:\n",
        "  def __init__(self, name, id):\n",
        "    self.name = name\n",
        "    self.id = id\n",
        "  def p(self):\n",
        "    print(\" name : {} \\n id : {} \".format(self.name,self.id))\n",
        "adamclass1 = adamclass(\"adam\",\"123adam\")\n",
        "adamclass1.p()\n",
        "print(\"-----------------\")\n",
        "adamclasslist = [ adamclass(\"adam\",\"1adam1\") , adamclass(\"adam\",\"2adam2\") , adamclass(\"adam\",\"3adam3\") , adamclass(\"adam\",\"4adam4\") ]\n",
        "for i in range(len(adamclasslist)):\n",
        "  adamclasslist[i].p()\n",
        "print(\"-------- الوراثه ---------\")\n",
        "class adamclass0(adamclass):\n",
        "  def __init__(self, name = \"adam\" , id = \"1000adam0000\" , age = 21):\n",
        "    super().__init__(name, id)\n",
        "    self.age=age\n",
        "  def p(self):#Overriding\n",
        "    super().p()\n",
        "    print(\" age : {} \".format(self.age))\n",
        "adamclass2 =adamclass0()\n",
        "adamclass2.p()\n"
      ],
      "execution_count": null,
      "outputs": [
        {
          "output_type": "stream",
          "text": [
            " name : adam \n",
            " id : 123adam \n",
            "-----------------\n",
            " name : adam \n",
            " id : 1adam1 \n",
            " name : adam \n",
            " id : 2adam2 \n",
            " name : adam \n",
            " id : 3adam3 \n",
            " name : adam \n",
            " id : 4adam4 \n",
            "-------- الوراثه ---------\n",
            " name : adam \n",
            " id : 1000adam0000 \n",
            " age : 21 \n"
          ],
          "name": "stdout"
        }
      ]
    },
    {
      "cell_type": "markdown",
      "metadata": {
        "id": "K2D96HKc4iaB"
      },
      "source": [
        "**@@@@@@@@@@@@@@@@@@@@@@@@@@@@@@@@@@@@@@@@@@@@@@@@@@@@@@@@@**\n",
        "\n",
        "Write a program functions that reads the elements of two lists from the user and then print the summation result of the two lists from a third lists.\n",
        "إنشاء دالة تأخذ قيم خاصة في المصفوفة الأولى و الثانية كمدخلات ثم طباعة نتيجة جمع قيم المصفوفتين في مصفوفة ثالثة\n"
      ]
    },
    {
      "cell_type": "code",
      "metadata": {
        "colab": {
          "base_uri": "https://localhost:8080/"
        },
        "id": "sEXzk_ZvS8ej",
        "outputId": "3b04b84d-df70-4759-fbee-e1edc5e79988"
      },
      "source": [
        "def Add_two_matrices():\n",
        "  adamlist1 =[]\n",
        "  adamlist2 =[]\n",
        "  adamlist3 =[]\n",
        "  adamnu = input(\"كم عدد العناصر التي تريد جمعها\")\n",
        "  adamnu = int(adamnu)\n",
        "\n",
        "  for i in range(0,adamnu):\n",
        "    adamx = input(\"ادخل الرقم في المصفوفه الاولى\")\n",
        "    adamlist1.append(int(adamx))\n",
        "    adamx = input(\"ادخل الرقم في المصفوفه الثانيه\")\n",
        "    adamlist2.append(int(adamx))\n",
        "    adamlist3.append(adamlist1[i]+adamlist2[i])\n",
        "  print(\"adamlist1 : \",adamlist1)\n",
        "  print(\"adamlist2 : \",adamlist2)\n",
        "  print(\"adamlist3 : \",adamlist3)\n",
        "\n",
        "\n",
        "\n",
        "Add_two_matrices()\n",
        "\n"
      ],
      "execution_count": null,
      "outputs": [
        {
          "output_type": "stream",
          "text": [
            "كم عدد العناصر التي تريد جمعها3\n",
            "ادخل الرقم في المصفوفه الاولى2\n",
            "ادخل الرقم في المصفوفه الثانيه5\n",
            "ادخل الرقم في المصفوفه الاولى4\n",
            "ادخل الرقم في المصفوفه الثانيه7\n",
            "ادخل الرقم في المصفوفه الاولى1\n",
            "ادخل الرقم في المصفوفه الثانيه3\n",
            "adamlist1 :  [2, 4, 1]\n",
            "adamlist2 :  [5, 7, 3]\n",
            "adamlist3 :  [7, 11, 4]\n"
          ],
          "name": "stdout"
        }
      ]
    },
    {
      "cell_type": "markdown",
      "metadata": {
        "id": "phDz6spP4ECB"
      },
      "source": [
        "**@@@@@@@@@@@@@@@@@@@@@@@@@@@@@@@@@@@@@@@@@@@@**\n",
        "\n",
        "Write a program that reads the elements of two 2D arrays/lists from the user and then print the summation result of the two lists from a third list.\n",
        "اكتب برنامجًا يقرأ عناصر صفيفتين / قائمتين ثنائي الأبعاد من المستخدم ثم اطبع نتيجة التلخيص للقائمتين من القائمة الثالثة.\n"
      ]
    },
    {
      "cell_type": "code",
      "metadata": {
        "colab": {
          "base_uri": "https://localhost:8080/"
        },
        "id": "b3kb0Wp5mGBA",
        "outputId": "44d1bc0e-bda5-4feb-e9ea-489685841f81"
      },
      "source": [
        "def adam2list():\n",
        "  adam2List1 = [[0],[0]]\n",
        "  adamnu = input(\"كم عدد العناصر في الصف الأول \")\n",
        "  adamnu = int(adamnu)\n",
        "  \n",
        "  for i in range(0,adamnu):\n",
        "    adamx = input(\"adamList1[0][\"+str(i)+\"] =\")\n",
        "    adam2List1[0].append(adamx)\n",
        "  adamnu = input(\"كم عدد العناصر في الصف الثاني\")\n",
        "  adamnu = int(adamnu)\n",
        "  for i in range(0,adamnu):\n",
        "    adamx = input(\"adamList1[1][\"+str(i)+\"] =\")\n",
        "    adam2List1[1].append(adamx)\n",
        "  adam2List1[0].remove(0)\n",
        "  adam2List1[1].remove(0)\n",
        "  print(adam2List1[0])\n",
        "  print(adam2List1[1])\n",
        "  print(adam2List1)\n",
        "\n",
        "\n",
        "adam2list()"
      ],
      "execution_count": null,
      "outputs": [
        {
          "output_type": "stream",
          "text": [
            "كم عدد العناصر في الصف الأول 4\n",
            "adamList1[0][0] =1\n",
            "adamList1[0][1] =2\n",
            "adamList1[0][2] =3\n",
            "adamList1[0][3] =4\n",
            "كم عدد العناصر في الصف الثاني3\n",
            "adamList1[1][0] =4\n",
            "adamList1[1][1] =2\n",
            "adamList1[1][2] =8\n",
            "['1', '2', '3', '4']\n",
            "['4', '2', '8']\n",
            "[['1', '2', '3', '4'], ['4', '2', '8']]\n"
          ],
          "name": "stdout"
        }
      ]
    },
    {
      "cell_type": "markdown",
      "metadata": {
        "id": "ZDpnGulV3FdF"
      },
      "source": [
        "**@@@@@@@@@@@@@@@@@@@@@@@@@@@@@@@@@@@@@@@@@@@@@@@@@@@@@@@@@@@@@**\n",
        "\n",
        "Write a program that asserts if two arrays/lists are equal.\n",
        "إنشاء دالة لمقارنة قيم المصفوفتين في حالة كانت القيم متساوية أم لا."
      ]
    },
    {
      "cell_type": "code",
      "metadata": {
        "colab": {
          "base_uri": "https://localhost:8080/"
        },
        "id": "4u5EWVUZthfj",
        "outputId": "5bc73ac8-3b7d-4a07-e3e6-4f3887275de1"
      },
      "source": [
        "def adamEquallist1(a=[],b=[]):\n",
        "  a=set(a)\n",
        "  b=set(b)\n",
        "  print(\"Equal : \",a.issuperset(b) and b.issuperset(a))\n",
        "adamEquallist1([\"2\",\"adam\"],[\"200\",\"adam\"])\n",
        "print(\"---------------------------------طريقه اخرى-----------------------------------\")\n",
        "def adamEquallist2(a=[],b=[]):\n",
        "  adams =False\n",
        "  if len(a)==len(b):\n",
        "    adams =True\n",
        "    for i in range(0,len(a)):\n",
        "      if a.count(b[i]) ==0 and b.count(a[i]) ==0:\n",
        "        adams=False\n",
        "  print(\"Equal : \",adams)\n",
        "\n",
        "adamEquallist2([\"2\",\"adam\"],[\"2\",\"adam\"])\n",
        "\n"
      ],
      "execution_count": null,
      "outputs": [
        {
          "output_type": "stream",
          "text": [
            "Equal :  False\n",
            "---------------------------------طريقه اخرى-----------------------------------\n",
            "Equal :  True\n"
          ],
          "name": "stdout"
        }
      ]
    },
    {
      "cell_type": "markdown",
      "metadata": {
        "id": "5__zdIWzCfoo"
      },
      "source": [
        "#    سبحان الله وبحمده   \n",
        "#    سبحان الله العظيم  \n",
        "\n"
      ]
    }
  ]
}